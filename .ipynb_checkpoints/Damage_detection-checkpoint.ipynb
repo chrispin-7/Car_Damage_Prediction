{
 "cells": [
  {
   "cell_type": "code",
   "execution_count": null,
   "id": "6912fb3b-e730-46d0-b87b-e2811d5ef944",
   "metadata": {},
   "outputs": [],
   "source": [
    "# object_detection.py\n",
    "\n",
    "import torch\n",
    "import cv2\n",
    "import numpy as np\n",
    "\n",
    "# Load model only once\n",
    "model = torch.hub.load('ultralytics/yolov5', 'custom', path='best.pt', force_reload=True)\n",
    "model.conf = 0.4  # Confidence threshold\n",
    "\n",
    "def detect_and_draw(image_path):\n",
    "    # Inference\n",
    "    results = model(image_path)\n",
    "    predictions = results.pandas().xyxy[0]\n",
    "\n",
    "    # Load original image\n",
    "    img = cv2.imread(image_path)\n",
    "\n",
    "    for _, row in predictions.iterrows():\n",
    "        x1, y1, x2, y2 = map(int, [row['xmin'], row['ymin'], row['xmax'], row['ymax']])\n",
    "        label = f\"{row['name']} {row['confidence']:.2f}\"\n",
    "\n",
    "        # Draw box\n",
    "        cv2.rectangle(img, (x1, y1), (x2, y2), (0, 255, 0), 2)\n",
    "        cv2.putText(img, label, (x1, y1 - 10), cv2.FONT_HERSHEY_SIMPLEX,\n",
    "                    0.6, (0, 255, 0), 2)\n",
    "\n",
    "    return img  # returns annotated image (with boxes)\n"
   ]
  }
 ],
 "metadata": {
  "kernelspec": {
   "display_name": "Python 3 (ipykernel)",
   "language": "python",
   "name": "python3"
  },
  "language_info": {
   "codemirror_mode": {
    "name": "ipython",
    "version": 3
   },
   "file_extension": ".py",
   "mimetype": "text/x-python",
   "name": "python",
   "nbconvert_exporter": "python",
   "pygments_lexer": "ipython3",
   "version": "3.12.7"
  }
 },
 "nbformat": 4,
 "nbformat_minor": 5
}
