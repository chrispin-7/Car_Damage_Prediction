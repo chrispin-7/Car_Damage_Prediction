{
 "cells": [
  {
   "cell_type": "code",
   "execution_count": 4,
   "id": "700e7015-3336-4b0e-bd69-ae275c11f1b3",
   "metadata": {},
   "outputs": [
    {
     "name": "stderr",
     "output_type": "stream",
     "text": [
      "Splitting dataset: 100%|█████████████████████████████████████████████████████████████████| 6/6 [00:09<00:00,  1.54s/it]"
     ]
    },
    {
     "name": "stdout",
     "output_type": "stream",
     "text": [
      "✅ Dataset split complete!\n"
     ]
    },
    {
     "name": "stderr",
     "output_type": "stream",
     "text": [
      "\n"
     ]
    }
   ],
   "source": [
    "import os\n",
    "import shutil\n",
    "import random\n",
    "from tqdm import tqdm\n",
    "\n",
    "# Paths\n",
    "original_dataset_dir = \"./dataset\"\n",
    "output_base_dir = \"./dataset_split\"\n",
    "\n",
    "# Split ratios\n",
    "train_ratio = 0.7\n",
    "val_ratio = 0.15\n",
    "test_ratio = 0.15\n",
    "\n",
    "# Make dirs\n",
    "for split in [\"train\", \"val\", \"test\"]:\n",
    "    for cls in os.listdir(original_dataset_dir):\n",
    "        os.makedirs(os.path.join(output_base_dir, split, cls), exist_ok=True)\n",
    "\n",
    "# Split and copy images\n",
    "for cls in tqdm(os.listdir(original_dataset_dir), desc=\"Splitting dataset\"):\n",
    "    cls_path = os.path.join(original_dataset_dir, cls)\n",
    "    images = os.listdir(cls_path)\n",
    "    random.shuffle(images)\n",
    "\n",
    "    train_end = int(len(images) * train_ratio)\n",
    "    val_end = train_end + int(len(images) * val_ratio)\n",
    "\n",
    "    train_imgs = images[:train_end]\n",
    "    val_imgs = images[train_end:val_end]\n",
    "    test_imgs = images[val_end:]\n",
    "\n",
    "    for img_name in train_imgs:\n",
    "        shutil.copy(os.path.join(cls_path, img_name), os.path.join(output_base_dir, \"train\", cls, img_name))\n",
    "    for img_name in val_imgs:\n",
    "        shutil.copy(os.path.join(cls_path, img_name), os.path.join(output_base_dir, \"val\", cls, img_name))\n",
    "    for img_name in test_imgs:\n",
    "        shutil.copy(os.path.join(cls_path, img_name), os.path.join(output_base_dir, \"test\", cls, img_name))\n",
    "\n",
    "print(\"✅ Dataset split complete!\")\n"
   ]
  },
  {
   "cell_type": "code",
   "execution_count": null,
   "id": "38c17a5b-c30e-435e-85e2-99d5c552fa57",
   "metadata": {},
   "outputs": [],
   "source": [
    "train_dir = \"./dataset_split/train\"\n",
    "val_dir = \"./dataset_split/val\"\n",
    "test_dir = \"./dataset_split/test\"\n"
   ]
  }
 ],
 "metadata": {
  "kernelspec": {
   "display_name": "Python 3 (ipykernel)",
   "language": "python",
   "name": "python3"
  },
  "language_info": {
   "codemirror_mode": {
    "name": "ipython",
    "version": 3
   },
   "file_extension": ".py",
   "mimetype": "text/x-python",
   "name": "python",
   "nbconvert_exporter": "python",
   "pygments_lexer": "ipython3",
   "version": "3.12.7"
  }
 },
 "nbformat": 4,
 "nbformat_minor": 5
}
